{
  "nbformat": 4,
  "nbformat_minor": 0,
  "metadata": {
    "colab": {
      "provenance": []
    },
    "kernelspec": {
      "name": "python3",
      "display_name": "Python 3"
    },
    "language_info": {
      "name": "python"
    }
  },
  "cells": [
    {
      "cell_type": "markdown",
      "source": [
        "Задание 1"
      ],
      "metadata": {
        "id": "e3hf6X_agTZi"
      }
    },
    {
      "cell_type": "code",
      "execution_count": 1,
      "metadata": {
        "colab": {
          "base_uri": "https://localhost:8080/"
        },
        "id": "Qcu78YNvgCYM",
        "outputId": "f128e77b-4b86-4bd7-bb71-be22c79d652b"
      },
      "outputs": [
        {
          "output_type": "stream",
          "name": "stdout",
          "text": [
            "Массив:  [0.18172653296918562, 0.9935292070641575, 0.6743541706688079, 0.2509037378141531, 0.9981765961136513]\n",
            "Максимальное значение:  0.9981765961136513\n",
            "Минимальное значение:  0.18172653296918562\n",
            "Среднее значение:  0.619738048925991\n"
          ]
        }
      ],
      "source": [
        "import random\n",
        "\n",
        "arr = [random.random() for i in range(5)]\n",
        "print(\"Массив: \", arr)\n",
        "max_val = max(arr)\n",
        "min_val = min(arr)\n",
        "avg_val = sum(arr) / len(arr)\n",
        "print(\"Максимальное значение: \", max_val)\n",
        "print(\"Минимальное значение: \", min_val)\n",
        "print(\"Среднее значение: \", avg_val)"
      ]
    },
    {
      "cell_type": "markdown",
      "source": [
        "Задание 2 (два варианта)"
      ],
      "metadata": {
        "id": "-Iw0dkAmgYej"
      }
    },
    {
      "cell_type": "code",
      "source": [
        "word = \"hello\"\n",
        "seen = \"\"\n",
        "\n",
        "for c in word:\n",
        "    if c not in seen:\n",
        "        print(f\"{c}: {word.count(c)}\")\n",
        "        seen += c"
      ],
      "metadata": {
        "colab": {
          "base_uri": "https://localhost:8080/"
        },
        "id": "imt239zFgbZh",
        "outputId": "3e4eed8a-1f4c-415b-ed0d-9b7f2848debf"
      },
      "execution_count": 2,
      "outputs": [
        {
          "output_type": "stream",
          "name": "stdout",
          "text": [
            "h: 1\n",
            "e: 1\n",
            "l: 2\n",
            "o: 1\n"
          ]
        }
      ]
    },
    {
      "cell_type": "code",
      "source": [
        "word = \"Hello\"\n",
        "\n",
        "for letter in word:\n",
        "      if word.count(letter) > 1:\n",
        "        print(letter)\n",
        "        break"
      ],
      "metadata": {
        "colab": {
          "base_uri": "https://localhost:8080/"
        },
        "id": "GmudxiIGgem3",
        "outputId": "455ac65c-0eab-4521-f976-1723c19011ec"
      },
      "execution_count": 3,
      "outputs": [
        {
          "output_type": "stream",
          "name": "stdout",
          "text": [
            "l\n"
          ]
        }
      ]
    },
    {
      "cell_type": "markdown",
      "source": [
        "Задание 3"
      ],
      "metadata": {
        "id": "i8TSVi7SgkGs"
      }
    },
    {
      "cell_type": "code",
      "source": [
        "class BaseConverter:\n",
        "      def convert(self, Цельсии, to_unit):\n",
        "           if to_unit == 'K':\n",
        "              return Цельсии + 273.15\n",
        "           elif to_unit == 'F':\n",
        "              return Цельсии * 1.8 + 32\n",
        "           else:\n",
        "              return \"Еденица измерения указана неверно\"\n",
        "\n",
        "converter = BaseConverter()\n",
        "celsius = float(input(\"Введите температуру в Цельсиях: \"))\n",
        "to_unit = input(\"Введите еденицу измерения (K для Кельвинов, F для Фаренгейтов): \")\n",
        "converted = converter.convert(celsius, to_unit)\n",
        "print(f\"{celsius} °C равняется {converted} °{to_unit}\")"
      ],
      "metadata": {
        "colab": {
          "base_uri": "https://localhost:8080/"
        },
        "id": "SisV024FglK-",
        "outputId": "ca377f93-9ee2-4f12-d1f2-277bac817357"
      },
      "execution_count": 4,
      "outputs": [
        {
          "output_type": "stream",
          "name": "stdout",
          "text": [
            "Введите температуру в Цельсиях: 56\n",
            "Введите еденицу измерения (K для Кельвинов, F для Фаренгейтов): K\n",
            "56.0 °C равняется 329.15 °K\n"
          ]
        }
      ]
    },
    {
      "cell_type": "markdown",
      "source": [
        "Задание 4"
      ],
      "metadata": {
        "id": "8CJVzDqzgtxF"
      }
    },
    {
      "cell_type": "code",
      "source": [
        "def calcAngle(h,m):\n",
        "         \n",
        "        if (h < 0 or m < 0 or h > 12 or m > 60):\n",
        "            print(\"Данные некорректны. Используется 12ти часовой формат\")\n",
        "         \n",
        "        if (h == 12):\n",
        "            h = 0\n",
        "        if (m == 60):\n",
        "            m = 0\n",
        "            h += 1;\n",
        "            if(h>12):\n",
        "                   h = h-12;\n",
        "         \n",
        "        hour_angle = 0.5 * (h * 60 + m)\n",
        "        minute_angle = 6 * m\n",
        "        angle = abs(hour_angle - minute_angle)\n",
        "        angle = min(360 - angle, angle)\n",
        "         \n",
        "        return angle\n",
        " \n",
        "h = float(input(\"Введите данные часовой стрелки в 12ти часовом формате:\"))\n",
        "m = float (input(\"Введите данные минутной стрелки:\"))\n",
        "print(\"Угол\", calcAngle(h,m))"
      ],
      "metadata": {
        "colab": {
          "base_uri": "https://localhost:8080/"
        },
        "id": "hhMuUJRBgvjm",
        "outputId": "468e12f0-3894-4cc6-bf72-40881f97bc79"
      },
      "execution_count": 5,
      "outputs": [
        {
          "output_type": "stream",
          "name": "stdout",
          "text": [
            "Введите данные часовой стрелки в 12ти часовом формате:6\n",
            "Введите данные минутной стрелки:8\n",
            "Угол 136.0\n"
          ]
        }
      ]
    }
  ]
}